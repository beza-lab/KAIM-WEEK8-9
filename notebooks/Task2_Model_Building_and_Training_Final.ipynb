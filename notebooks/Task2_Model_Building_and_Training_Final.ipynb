{
 "cells": [
  {
   "cell_type": "code",
   "execution_count": 1,
   "metadata": {},
   "outputs": [],
   "source": [
    "import pandas as pd\n",
    "\n",
    "# Load the datasets\n",
    "fraud_data = pd.read_csv('D:/week8&9 data/Fraud_Data.csv')\n",
    "ip_to_country = pd.read_csv('D:/week8&9 data/IpAddress_to_Country.csv')\n",
    "credit_card = pd.read_csv('D:/week8&9 data/creditcard.csv')"
   ]
  },
  {
   "cell_type": "code",
   "execution_count": 2,
   "metadata": {},
   "outputs": [
    {
     "name": "stdout",
     "output_type": "stream",
     "text": [
      "Index(['user_id', 'signup_time', 'purchase_time', 'purchase_value',\n",
      "       'device_id', 'source', 'browser', 'sex', 'age', 'ip_address', 'class'],\n",
      "      dtype='object')\n"
     ]
    }
   ],
   "source": [
    "# Display column names of fraud_data\n",
    "print(fraud_data.columns)\n"
   ]
  },
  {
   "cell_type": "code",
   "execution_count": 3,
   "metadata": {},
   "outputs": [],
   "source": [
    "# Separate features and target for creditcard dataset\n",
    "X_creditcard = credit_card.drop(columns=['Class'])\n",
    "y_creditcard = credit_card['Class']\n"
   ]
  },
  {
   "cell_type": "code",
   "execution_count": 4,
   "metadata": {},
   "outputs": [],
   "source": [
    "from sklearn.model_selection import train_test_split\n",
    "\n",
    "# Split creditcard dataset\n",
    "X_creditcard_train, X_creditcard_test, y_creditcard_train, y_creditcard_test = train_test_split(\n",
    "    X_creditcard, y_creditcard, test_size=0.3, random_state=42, stratify=y_creditcard)\n"
   ]
  },
  {
   "cell_type": "code",
   "execution_count": 5,
   "metadata": {},
   "outputs": [],
   "source": [
    "from sklearn.preprocessing import StandardScaler\n",
    "\n",
    "# Define the scaler\n",
    "scaler = StandardScaler()\n",
    "\n",
    "# Scale the features for Credit Card dataset\n",
    "X_creditcard_train_scaled = scaler.fit_transform(X_creditcard_train)\n",
    "X_creditcard_test_scaled = scaler.transform(X_creditcard_test)\n"
   ]
  },
  {
   "cell_type": "markdown",
   "metadata": {},
   "source": [
    "Model Training and Evaluation"
   ]
  },
  {
   "cell_type": "code",
   "execution_count": 6,
   "metadata": {},
   "outputs": [
    {
     "name": "stdout",
     "output_type": "stream",
     "text": [
      "Logistic Regression Accuracy (Credit Card): 0.9991456292499094\n",
      "Logistic Regression Classification Report:\n",
      "              precision    recall  f1-score   support\n",
      "\n",
      "           0       1.00      1.00      1.00     85295\n",
      "           1       0.85      0.61      0.71       148\n",
      "\n",
      "    accuracy                           1.00     85443\n",
      "   macro avg       0.92      0.81      0.86     85443\n",
      "weighted avg       1.00      1.00      1.00     85443\n",
      "\n",
      "Decision Tree Accuracy (Credit Card): 0.99916903666772\n",
      "Decision Tree Classification Report:\n",
      "              precision    recall  f1-score   support\n",
      "\n",
      "           0       1.00      1.00      1.00     85295\n",
      "           1       0.79      0.72      0.75       148\n",
      "\n",
      "    accuracy                           1.00     85443\n",
      "   macro avg       0.89      0.86      0.87     85443\n",
      "weighted avg       1.00      1.00      1.00     85443\n",
      "\n",
      "Random Forest Accuracy (Credit Card): 0.9995201479348805\n",
      "Random Forest Classification Report:\n",
      "              precision    recall  f1-score   support\n",
      "\n",
      "           0       1.00      1.00      1.00     85295\n",
      "           1       0.96      0.76      0.85       148\n",
      "\n",
      "    accuracy                           1.00     85443\n",
      "   macro avg       0.98      0.88      0.92     85443\n",
      "weighted avg       1.00      1.00      1.00     85443\n",
      "\n",
      "Gradient Boosting Accuracy (Credit Card): 0.9984434067155882\n",
      "Gradient Boosting Classification Report:\n",
      "              precision    recall  f1-score   support\n",
      "\n",
      "           0       1.00      1.00      1.00     85295\n",
      "           1       0.73      0.16      0.27       148\n",
      "\n",
      "    accuracy                           1.00     85443\n",
      "   macro avg       0.86      0.58      0.63     85443\n",
      "weighted avg       1.00      1.00      1.00     85443\n",
      "\n",
      "Multi-Layer Perceptron Accuracy (Credit Card): 0.9993328885923949\n",
      "Multi-Layer Perceptron Classification Report:\n",
      "              precision    recall  f1-score   support\n",
      "\n",
      "           0       1.00      1.00      1.00     85295\n",
      "           1       0.88      0.71      0.79       148\n",
      "\n",
      "    accuracy                           1.00     85443\n",
      "   macro avg       0.94      0.85      0.89     85443\n",
      "weighted avg       1.00      1.00      1.00     85443\n",
      "\n"
     ]
    }
   ],
   "source": [
    "from sklearn.linear_model import LogisticRegression\n",
    "from sklearn.tree import DecisionTreeClassifier\n",
    "from sklearn.ensemble import RandomForestClassifier, GradientBoostingClassifier\n",
    "from sklearn.neural_network import MLPClassifier\n",
    "from sklearn.metrics import accuracy_score, classification_report\n",
    "\n",
    "models = {\n",
    "    'Logistic Regression': LogisticRegression(max_iter=1000),\n",
    "    'Decision Tree': DecisionTreeClassifier(),\n",
    "    'Random Forest': RandomForestClassifier(),\n",
    "    'Gradient Boosting': GradientBoostingClassifier(),\n",
    "    'Multi-Layer Perceptron': MLPClassifier()\n",
    "}\n",
    "\n",
    "# Train and evaluate models for Credit Card dataset with scaled data\n",
    "for name, model in models.items():\n",
    "    model.fit(X_creditcard_train_scaled, y_creditcard_train)\n",
    "    y_pred = model.predict(X_creditcard_test_scaled)\n",
    "    accuracy = accuracy_score(y_creditcard_test, y_pred)\n",
    "    print(f'{name} Accuracy (Credit Card): {accuracy}')\n",
    "    print(f'{name} Classification Report:\\n{classification_report(y_creditcard_test, y_pred)}')\n"
   ]
  },
  {
   "cell_type": "markdown",
   "metadata": {},
   "source": [
    "Tracking Experiments with MLflow"
   ]
  },
  {
   "cell_type": "code",
   "execution_count": 7,
   "metadata": {},
   "outputs": [
    {
     "name": "stderr",
     "output_type": "stream",
     "text": [
      "2025/02/10 10:43:33 INFO mlflow.tracking.fluent: Experiment with name 'Credit Card Fraud Detection' does not exist. Creating a new experiment.\n",
      "2025/02/10 10:44:53 WARNING mlflow.models.model: Model logged without a signature and input example. Please set `input_example` parameter when logging the model to auto infer the model signature.\n"
     ]
    }
   ],
   "source": [
    "import mlflow\n",
    "import mlflow.sklearn\n",
    "from sklearn.linear_model import LogisticRegression\n",
    "from sklearn.metrics import accuracy_score, classification_report\n",
    "\n",
    "# Initialize MLflow\n",
    "mlflow.set_experiment(\"Credit Card Fraud Detection\")\n",
    "\n",
    "# Define the model\n",
    "log_reg_creditcard = LogisticRegression(max_iter=1000)\n",
    "\n",
    "# Start an MLflow run\n",
    "with mlflow.start_run():\n",
    "    # Train the model\n",
    "    log_reg_creditcard.fit(X_creditcard_train_scaled, y_creditcard_train)\n",
    "    \n",
    "    # Make predictions\n",
    "    y_pred = log_reg_creditcard.predict(X_creditcard_test_scaled)\n",
    "    \n",
    "    # Calculate accuracy\n",
    "    accuracy = accuracy_score(y_creditcard_test, y_pred)\n",
    "    \n",
    "    # Log the accuracy\n",
    "    mlflow.log_metric(\"accuracy\", accuracy)\n",
    "    \n",
    "    # Log the classification report\n",
    "    report = classification_report(y_creditcard_test, y_pred, output_dict=True)\n",
    "    for label, metrics in report.items():\n",
    "        if isinstance(metrics, dict):\n",
    "            for metric, value in metrics.items():\n",
    "                mlflow.log_metric(f\"{label}_{metric}\", value)\n",
    "    \n",
    "    # Log the model\n",
    "    mlflow.sklearn.log_model(log_reg_creditcard, \"logistic_regression_model\")\n"
   ]
  }
 ],
 "metadata": {
  "kernelspec": {
   "display_name": ".ebcli-virtual-env",
   "language": "python",
   "name": "python3"
  },
  "language_info": {
   "codemirror_mode": {
    "name": "ipython",
    "version": 3
   },
   "file_extension": ".py",
   "mimetype": "text/x-python",
   "name": "python",
   "nbconvert_exporter": "python",
   "pygments_lexer": "ipython3",
   "version": "3.11.9"
  }
 },
 "nbformat": 4,
 "nbformat_minor": 2
}
