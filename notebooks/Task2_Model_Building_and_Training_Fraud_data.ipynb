{
 "cells": [
  {
   "cell_type": "code",
   "execution_count": 2,
   "metadata": {},
   "outputs": [],
   "source": [
    "import pandas as pd\n",
    "\n",
    "# Load the datasets\n",
    "fraud_data = pd.read_csv('D:/week8&9 data/Fraud_Data.csv')\n",
    "ip_to_country = pd.read_csv('D:/week8&9 data/IpAddress_to_Country.csv')\n",
    "credit_card = pd.read_csv('D:/week8&9 data/creditcard.csv')"
   ]
  },
  {
   "cell_type": "code",
   "execution_count": 3,
   "metadata": {},
   "outputs": [
    {
     "name": "stdout",
     "output_type": "stream",
     "text": [
      "Index(['user_id', 'signup_time', 'purchase_time', 'purchase_value',\n",
      "       'device_id', 'source', 'browser', 'sex', 'age', 'ip_address', 'class'],\n",
      "      dtype='object')\n"
     ]
    }
   ],
   "source": [
    "# Display column names of fraud_data\n",
    "print(fraud_data.columns)\n"
   ]
  },
  {
   "cell_type": "markdown",
   "metadata": {},
   "source": [
    "Data Preparation"
   ]
  },
  {
   "cell_type": "markdown",
   "metadata": {},
   "source": [
    "Feature and Target Separation"
   ]
  },
  {
   "cell_type": "code",
   "execution_count": 4,
   "metadata": {},
   "outputs": [],
   "source": [
    "# Feature and Target Separation\n",
    "X_creditcard = credit_card.drop('Class', axis=1)\n",
    "y_creditcard = credit_card['Class']\n",
    "\n",
    "X_fraud = fraud_data.drop('class', axis=1)\n",
    "y_fraud = fraud_data['class']\n"
   ]
  },
  {
   "cell_type": "code",
   "execution_count": 5,
   "metadata": {},
   "outputs": [
    {
     "name": "stdout",
     "output_type": "stream",
     "text": [
      "   user_id          signup_time        purchase_time  purchase_value  \\\n",
      "0    22058  2015-02-24 22:55:49  2015-04-18 02:47:11              34   \n",
      "1   333320  2015-06-07 20:39:50  2015-06-08 01:38:54              16   \n",
      "2     1359  2015-01-01 18:52:44  2015-01-01 18:52:45              15   \n",
      "3   150084  2015-04-28 21:13:25  2015-05-04 13:54:50              44   \n",
      "4   221365  2015-07-21 07:09:52  2015-09-09 18:40:53              39   \n",
      "\n",
      "   device_id  source  browser  sex  age    ip_address  class  \n",
      "0      89215       2        0    1   39  7.327584e+08      0  \n",
      "1      24078       0        0    0   53  3.503114e+08      0  \n",
      "2     131216       2        3    1   53  2.621474e+09      1  \n",
      "3       3977       2        4    1   41  3.840542e+09      0  \n",
      "4      68757       0        4    1   45  4.155831e+08      0  \n"
     ]
    }
   ],
   "source": [
    "from sklearn.preprocessing import LabelEncoder\n",
    "\n",
    "# Identify categorical columns in fraud_data\n",
    "categorical_columns = ['device_id', 'source', 'browser', 'sex']\n",
    "\n",
    "# Apply label encoding to categorical columns\n",
    "label_encoders = {}\n",
    "for col in categorical_columns:\n",
    "    encoder = LabelEncoder()\n",
    "    fraud_data[col] = encoder.fit_transform(fraud_data[col])\n",
    "    label_encoders[col] = encoder\n",
    "\n",
    "# Check the transformed data\n",
    "print(fraud_data.head())\n"
   ]
  },
  {
   "cell_type": "code",
   "execution_count": 6,
   "metadata": {},
   "outputs": [],
   "source": [
    "# Feature and Target Separation\n",
    "X_fraud = fraud_data.drop('class', axis=1)\n",
    "y_fraud = fraud_data['class']\n",
    "\n",
    "# Train-Test Split for Fraud Data dataset\n",
    "from sklearn.model_selection import train_test_split\n",
    "\n",
    "X_train_fraud, X_test_fraud, y_train_fraud, y_test_fraud = train_test_split(X_fraud, y_fraud, test_size=0.3, random_state=42)\n"
   ]
  },
  {
   "cell_type": "code",
   "execution_count": null,
   "metadata": {},
   "outputs": [],
   "source": [
    "from sklearn.preprocessing import StandardScaler\n",
    "\n",
    "# Define the scaler\n",
    "scaler = StandardScaler()\n",
    "\n",
    "# Scale the features for Fraud Data dataset\n",
    "X_fraud_data_train_scaled = scaler.fit_transform(X_fraud_data_train_resampled)\n",
    "X_fraud_data_test_scaled = scaler.transform(X_fraud_data_test)\n"
   ]
  },
  {
   "cell_type": "code",
   "execution_count": 10,
   "metadata": {},
   "outputs": [],
   "source": [
    "# Drop datetime columns before scaling\n",
    "X_train_fraud = X_train_fraud.drop(columns=['signup_time', 'purchase_time'])\n",
    "X_test_fraud = X_test_fraud.drop(columns=['signup_time', 'purchase_time'])\n",
    "\n",
    "from sklearn.preprocessing import StandardScaler\n",
    "\n",
    "# Define the scaler\n",
    "scaler = StandardScaler()\n",
    "\n",
    "# Scale the features for Fraud Data dataset\n",
    "X_train_fraud_scaled = scaler.fit_transform(X_train_fraud)\n",
    "X_test_fraud_scaled = scaler.transform(X_test_fraud)\n"
   ]
  },
  {
   "cell_type": "markdown",
   "metadata": {},
   "source": [
    "Model Selection\n",
    "\n",
    "Logistic Regression\n",
    "Decision Tree\n",
    "Random Forest\n",
    "Gradient Boosting\n",
    "Multi-Layer Perceptron (MLP)\n"
   ]
  },
  {
   "cell_type": "markdown",
   "metadata": {},
   "source": [
    "Model Training and Evaluation"
   ]
  },
  {
   "cell_type": "code",
   "execution_count": 11,
   "metadata": {},
   "outputs": [
    {
     "name": "stdout",
     "output_type": "stream",
     "text": [
      "Logistic Regression Accuracy (Fraud Data): 0.906979309127807\n",
      "Decision Tree Accuracy (Fraud Data): 0.8898177967971059\n",
      "Random Forest Accuracy (Fraud Data): 0.9449419861472625\n",
      "Gradient Boosting Accuracy (Fraud Data): 0.9072219526183438\n",
      "Multi-Layer Perceptron Accuracy (Fraud Data): 0.906979309127807\n"
     ]
    }
   ],
   "source": [
    "from sklearn.linear_model import LogisticRegression\n",
    "from sklearn.tree import DecisionTreeClassifier\n",
    "from sklearn.ensemble import RandomForestClassifier, GradientBoostingClassifier\n",
    "from sklearn.neural_network import MLPClassifier\n",
    "from sklearn.metrics import accuracy_score\n",
    "\n",
    "models = {\n",
    "    'Logistic Regression': LogisticRegression(max_iter=1000),\n",
    "    'Decision Tree': DecisionTreeClassifier(),\n",
    "    'Random Forest': RandomForestClassifier(),\n",
    "    'Gradient Boosting': GradientBoostingClassifier(),\n",
    "    'Multi-Layer Perceptron': MLPClassifier()\n",
    "}\n",
    "\n",
    "# Train and evaluate models for Fraud Data dataset with scaled data\n",
    "for name, model in models.items():\n",
    "    model.fit(X_train_fraud_scaled, y_train_fraud)\n",
    "    y_pred = model.predict(X_test_fraud_scaled)\n",
    "    accuracy = accuracy_score(y_test_fraud, y_pred)\n",
    "    print(f'{name} Accuracy (Fraud Data): {accuracy}')\n"
   ]
  }
 ],
 "metadata": {
  "kernelspec": {
   "display_name": ".ebcli-virtual-env",
   "language": "python",
   "name": "python3"
  },
  "language_info": {
   "codemirror_mode": {
    "name": "ipython",
    "version": 3
   },
   "file_extension": ".py",
   "mimetype": "text/x-python",
   "name": "python",
   "nbconvert_exporter": "python",
   "pygments_lexer": "ipython3",
   "version": "3.11.9"
  }
 },
 "nbformat": 4,
 "nbformat_minor": 2
}
